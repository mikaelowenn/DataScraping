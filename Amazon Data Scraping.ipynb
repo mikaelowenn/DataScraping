{
  "nbformat": 4,
  "nbformat_minor": 0,
  "metadata": {
    "colab": {
      "provenance": [],
      "authorship_tag": "ABX9TyP/WNDQwsY3Zkte5hPoSocg",
      "include_colab_link": true
    },
    "kernelspec": {
      "name": "python3",
      "display_name": "Python 3"
    },
    "language_info": {
      "name": "python"
    }
  },
  "cells": [
    {
      "cell_type": "markdown",
      "metadata": {
        "id": "view-in-github",
        "colab_type": "text"
      },
      "source": [
        "<a href=\"https://colab.research.google.com/github/mikaelowenn/DataScraping/blob/main/Amazon%20Data%20Scraping.ipynb\" target=\"_parent\"><img src=\"https://colab.research.google.com/assets/colab-badge.svg\" alt=\"Open In Colab\"/></a>"
      ]
    },
    {
      "cell_type": "code",
      "execution_count": null,
      "metadata": {
        "id": "Et1aI1FT9hPA"
      },
      "outputs": [],
      "source": [
        "#import libraries\n",
        "from bs4 import BeautifulSoup\n",
        "import requests\n",
        "import smtplib\n",
        "import time\n",
        "import datetime"
      ]
    },
    {
      "cell_type": "code",
      "source": [
        "URL ='https://www.amazon.com/Classroom-Supplies-Transparent-Colorful-Centimeters/dp/B0BX3GJS6F/ref=sr_1_1_sspa?_encoding=UTF8&content-id=amzn1.sym.82e6e8fe-e095-48e0-8fec-f01d7c39b9b7&crid=3GXS1T7TCNNVZ&keywords=back%2Bto%2Bschool%2Bsupplies&pd_rd_r=b6e26868-44b5-4ba5-8fe9-369deebfca23&pd_rd_w=dxeSG&pd_rd_wg=c1MoX&pf_rd_p=82e6e8fe-e095-48e0-8fec-f01d7c39b9b7&pf_rd_r=CHA3R5A1BWX86Q3JDQXE&qid=1694835892&sprefix=back%2Bto%2Bschool%2Caps%2C201&sr=8-1-spons&sp_csd=d2lkZ2V0TmFtZT1zcF9hdGY&th=1'\n",
        "headers ={\n",
        "    \"User-Agent\": \"Mozilla/5.0 (Windows NT 10.0; Win64; x64; rv:109.0) Gecko/20100101 Firefox/117.0\",\n",
        "    \"Accept\": \"text/html,application/xhtml+xml,application/xml;q=0.9,image/avif,image/webp,*/*;q=0.8\",\n",
        "    \"Accept-Encoding\": \"gzip, deflate\",\n",
        "    \"DNT\": \"1\",\n",
        "    \"Connection\": \"close\",\n",
        "    \"Upgrade-Insecure-Requests\": \"1\"\n",
        "}\n",
        "try:\n",
        "    page = requests.get(URL, headers=headers)\n",
        "\n",
        "    if page.status_code == 200:\n",
        "        soup1 = BeautifulSoup(page.content, \"html.parser\")\n",
        "        soup1 = BeautifulSoup(page.content,\"html.parser\")\n",
        "        soup2 = BeautifulSoup(soup1.prettify(), \"html.parser\")\n",
        "        print(soup2)\n",
        "    else:\n",
        "        print(\"Failed to fetch the page. Status code:\", page.status_code)\n",
        "\n",
        "except requests.exceptions.RequestException as e:\n",
        "    print(\"An error occurred:\", e)\n",
        "\n",
        "\n",
        "\n"
      ],
      "metadata": {
        "id": "2zdWsFUp_aTX"
      },
      "execution_count": null,
      "outputs": []
    },
    {
      "cell_type": "code",
      "source": [
        "title = soup2.find(id='productTitle').get_text()\n",
        "price = soup2.find(\"span\", class_=\"a-offscreen\").text\n",
        "print(title)\n",
        "print(price)"
      ],
      "metadata": {
        "colab": {
          "base_uri": "https://localhost:8080/"
        },
        "id": "cpjqofrOEzqH",
        "outputId": "c1912281-1131-485b-a8b3-1aaf9c9d34c8"
      },
      "execution_count": null,
      "outputs": [
        {
          "output_type": "stream",
          "name": "stdout",
          "text": [
            "\n",
            "            192 Pack Clear Color Rulers Bulk for Classroom Kids Rulers Bulk Back to School Supplies Transparent Colorful Ruler with Inches and Centimeters 8 Colors Metric Rulers for School Home Office (12 Inch)\n",
            "           \n",
            "\n",
            "                $38.39\n",
            "               \n"
          ]
        }
      ]
    },
    {
      "cell_type": "code",
      "source": [
        "price = price.strip()[1:]\n",
        "title = title.strip()\n",
        "\n",
        "print(title)\n",
        "print(price)"
      ],
      "metadata": {
        "colab": {
          "base_uri": "https://localhost:8080/"
        },
        "id": "tnatGyydX33k",
        "outputId": "b5e875ad-8644-4dfd-8925-f2b2fe066b00"
      },
      "execution_count": null,
      "outputs": [
        {
          "output_type": "stream",
          "name": "stdout",
          "text": [
            "192 Pack Clear Color Rulers Bulk for Classroom Kids Rulers Bulk Back to School Supplies Transparent Colorful Ruler with Inches and Centimeters 8 Colors Metric Rulers for School Home Office (12 Inch)\n",
            "\n"
          ]
        }
      ]
    },
    {
      "cell_type": "code",
      "source": [
        "import datetime\n",
        "today =datetime.date.today()\n",
        "print(today)"
      ],
      "metadata": {
        "colab": {
          "base_uri": "https://localhost:8080/"
        },
        "id": "MZiKLHbHbMkN",
        "outputId": "b508c011-5c18-4f33-d66b-1cb8c0965e71"
      },
      "execution_count": null,
      "outputs": [
        {
          "output_type": "stream",
          "name": "stdout",
          "text": [
            "2023-09-27\n"
          ]
        }
      ]
    },
    {
      "cell_type": "code",
      "source": [
        "import pandas as pd\n",
        "\n",
        "df = pd.read_csv('/content/AmazonWebScraperDataset.csv')\n",
        "\n",
        "print(df)"
      ],
      "metadata": {
        "colab": {
          "base_uri": "https://localhost:8080/"
        },
        "id": "0MzobuiocU64",
        "outputId": "f4715dac-e936-49ce-f216-7b54de4a424b"
      },
      "execution_count": null,
      "outputs": [
        {
          "output_type": "stream",
          "name": "stdout",
          "text": [
            "                                               Title  Price        Date\n",
            "0  192 Pack Clear Color Rulers Bulk for Classroom...    NaN  2023-09-27\n",
            "1  192 Pack Clear Color Rulers Bulk for Classroom...    NaN  2023-09-27\n",
            "2  192 Pack Clear Color Rulers Bulk for Classroom...    NaN  2023-09-27\n",
            "3  192 Pack Clear Color Rulers Bulk for Classroom...  38.39  2023-09-27\n",
            "4  192 Pack Clear Color Rulers Bulk for Classroom...  38.39  2023-09-27\n"
          ]
        }
      ]
    },
    {
      "cell_type": "code",
      "source": [
        "import csv\n",
        "\n",
        "header = ['Title','Price','Date']\n",
        "data = [title, price, today]\n",
        "\n",
        "with open('AmazonWebScraperDataset.csv','a+', newline='', encoding ='UTF8') as f:\n",
        "  writer=csv.writer(f)\n",
        "  writer.writerow(data)\n"
      ],
      "metadata": {
        "id": "NmlNudI7Yhbh"
      },
      "execution_count": null,
      "outputs": []
    },
    {
      "cell_type": "code",
      "source": [
        "def check_price():\n",
        "  URL ='https://www.amazon.com/Classroom-Supplies-Transparent-Colorful-Centimeters/dp/B0BX3GJS6F/ref=sr_1_1_sspa?_encoding=UTF8&content-id=amzn1.sym.82e6e8fe-e095-48e0-8fec-f01d7c39b9b7&crid=3GXS1T7TCNNVZ&keywords=back%2Bto%2Bschool%2Bsupplies&pd_rd_r=b6e26868-44b5-4ba5-8fe9-369deebfca23&pd_rd_w=dxeSG&pd_rd_wg=c1MoX&pf_rd_p=82e6e8fe-e095-48e0-8fec-f01d7c39b9b7&pf_rd_r=CHA3R5A1BWX86Q3JDQXE&qid=1694835892&sprefix=back%2Bto%2Bschool%2Caps%2C201&sr=8-1-spons&sp_csd=d2lkZ2V0TmFtZT1zcF9hdGY&th=1'\n",
        "  headers ={\n",
        "    \"User-Agent\": \"Mozilla/5.0 (Windows NT 10.0; Win64; x64; rv:109.0) Gecko/20100101 Firefox/117.0\",\n",
        "    \"Accept\": \"text/html,application/xhtml+xml,application/xml;q=0.9,image/avif,image/webp,*/*;q=0.8\",\n",
        "    \"Accept-Encoding\": \"gzip, deflate\",\n",
        "    \"DNT\": \"1\",\n",
        "    \"Connection\": \"close\",\n",
        "    \"Upgrade-Insecure-Requests\": \"1\"\n",
        "  }\n",
        "  try:\n",
        "    page = requests.get(URL, headers=headers)\n",
        "\n",
        "    if page.status_code == 200:\n",
        "        soup1 = BeautifulSoup(page.content, \"html.parser\")\n",
        "        soup1 = BeautifulSoup(page.content,\"html.parser\")\n",
        "        soup2 = BeautifulSoup(soup1.prettify(), \"html.parser\")\n",
        "        print(soup2)\n",
        "        title = soup2.find(id='productTitle').get_text()\n",
        "        price = soup2.find(\"span\", class_=\"a-offscreen\").text\n",
        "        price = price.strip()[1:]\n",
        "        title = title.strip()\n",
        "        import datetime\n",
        "        today =datetime.date.today()\n",
        "        import csv\n",
        "\n",
        "        header = ['Title','Price','Date']\n",
        "        data = [title, price, today]\n",
        "\n",
        "        with open('AmazonWebScraperDataset.csv','a+', newline='', encoding ='UTF8') as f:\n",
        "          writer=csv.writer(f)\n",
        "          writer.writerow(data)\n",
        "\n",
        "        if (price < 14):\n",
        "          send_mail()\n",
        "\n",
        "    else:\n",
        "        print(\"Failed to fetch the page. Status code:\", page.status_code)\n",
        "\n",
        "  except requests.exceptions.RequestException as e:\n",
        "    print(\"An error occurred:\", e)"
      ],
      "metadata": {
        "id": "bMOkN3T0dR-u"
      },
      "execution_count": null,
      "outputs": []
    },
    {
      "cell_type": "code",
      "source": [
        "while True:\n",
        "  check_price()\n",
        "  time.sleep(86400)"
      ],
      "metadata": {
        "id": "b7yXeqEQeEMV"
      },
      "execution_count": null,
      "outputs": []
    },
    {
      "cell_type": "code",
      "source": [
        "import pandas as pd\n",
        "\n",
        "df = pd.read_csv('/content/AmazonWebScraperDataset.csv')\n",
        "\n",
        "print(df)"
      ],
      "metadata": {
        "id": "dx5nsObAeerE"
      },
      "execution_count": null,
      "outputs": []
    },
    {
      "cell_type": "code",
      "source": [
        "def send_mail():\n",
        "  server = smtplib.SMTP_SSL('smtp.gmail.com',465)\n",
        "  server.ehlo()\n",
        "  server.ehlo()\n",
        "  #server.login('EMAIL','PASSWORD')\n",
        "  subject =\"The shirt you want is below $15,buy now\"\n",
        "  body =\"This is body\"\n",
        "\n",
        "  msg =f\"Subject:{subject}\\n\\n {body}\"\n",
        "\n",
        "  server.sendmail('testingpurpose@gmail.com',\n",
        "                  msg)\n"
      ],
      "metadata": {
        "id": "cyxXbdzHe3C5"
      },
      "execution_count": null,
      "outputs": []
    }
  ]
}